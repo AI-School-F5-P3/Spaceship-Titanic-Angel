{
 "cells": [
  {
   "cell_type": "code",
   "execution_count": 1,
   "metadata": {},
   "outputs": [
    {
     "name": "stderr",
     "output_type": "stream",
     "text": [
      "/Users/cash/Desktop/F5/Python/Machine_Learning/non-supervised-learning/env/lib/python3.12/site-packages/tqdm/auto.py:21: TqdmWarning: IProgress not found. Please update jupyter and ipywidgets. See https://ipywidgets.readthedocs.io/en/stable/user_install.html\n",
      "  from .autonotebook import tqdm as notebook_tqdm\n"
     ]
    }
   ],
   "source": [
    "# Importando las librerías necesarias\n",
    "import pandas as pd\n",
    "import numpy as np\n",
    "from sklearn.preprocessing import OrdinalEncoder\n",
    "from sklearn.model_selection import train_test_split\n",
    "from sklearn.ensemble import RandomForestClassifier\n",
    "from sklearn.metrics import accuracy_score\n",
    "# Importando las librerías para la selección de características\n",
    "from sklearn.feature_selection import SelectKBest, f_classif\n",
    "from sklearn.pipeline import Pipeline\n",
    "from sklearn.compose import ColumnTransformer\n",
    "import optuna"
   ]
  },
  {
   "cell_type": "code",
   "execution_count": 3,
   "metadata": {},
   "outputs": [],
   "source": [
    "# Cargar los datos de entrenamiento y prueba\n",
    "data = pd.read_csv('train.csv')"
   ]
  },
  {
   "cell_type": "code",
   "execution_count": 4,
   "metadata": {},
   "outputs": [
    {
     "data": {
      "text/plain": [
       "(8693, 14)"
      ]
     },
     "execution_count": 4,
     "metadata": {},
     "output_type": "execute_result"
    }
   ],
   "source": [
    "data.shape"
   ]
  },
  {
   "cell_type": "code",
   "execution_count": 5,
   "metadata": {},
   "outputs": [
    {
     "data": {
      "text/html": [
       "<div>\n",
       "<style scoped>\n",
       "    .dataframe tbody tr th:only-of-type {\n",
       "        vertical-align: middle;\n",
       "    }\n",
       "\n",
       "    .dataframe tbody tr th {\n",
       "        vertical-align: top;\n",
       "    }\n",
       "\n",
       "    .dataframe thead th {\n",
       "        text-align: right;\n",
       "    }\n",
       "</style>\n",
       "<table border=\"1\" class=\"dataframe\">\n",
       "  <thead>\n",
       "    <tr style=\"text-align: right;\">\n",
       "      <th></th>\n",
       "      <th>PassengerId</th>\n",
       "      <th>HomePlanet</th>\n",
       "      <th>CryoSleep</th>\n",
       "      <th>Cabin</th>\n",
       "      <th>Destination</th>\n",
       "      <th>Age</th>\n",
       "      <th>VIP</th>\n",
       "      <th>RoomService</th>\n",
       "      <th>FoodCourt</th>\n",
       "      <th>ShoppingMall</th>\n",
       "      <th>Spa</th>\n",
       "      <th>VRDeck</th>\n",
       "      <th>Name</th>\n",
       "      <th>Transported</th>\n",
       "    </tr>\n",
       "  </thead>\n",
       "  <tbody>\n",
       "    <tr>\n",
       "      <th>0</th>\n",
       "      <td>0001_01</td>\n",
       "      <td>Europa</td>\n",
       "      <td>False</td>\n",
       "      <td>B/0/P</td>\n",
       "      <td>TRAPPIST-1e</td>\n",
       "      <td>39.0</td>\n",
       "      <td>False</td>\n",
       "      <td>0.0</td>\n",
       "      <td>0.0</td>\n",
       "      <td>0.0</td>\n",
       "      <td>0.0</td>\n",
       "      <td>0.0</td>\n",
       "      <td>Maham Ofracculy</td>\n",
       "      <td>False</td>\n",
       "    </tr>\n",
       "    <tr>\n",
       "      <th>1</th>\n",
       "      <td>0002_01</td>\n",
       "      <td>Earth</td>\n",
       "      <td>False</td>\n",
       "      <td>F/0/S</td>\n",
       "      <td>TRAPPIST-1e</td>\n",
       "      <td>24.0</td>\n",
       "      <td>False</td>\n",
       "      <td>109.0</td>\n",
       "      <td>9.0</td>\n",
       "      <td>25.0</td>\n",
       "      <td>549.0</td>\n",
       "      <td>44.0</td>\n",
       "      <td>Juanna Vines</td>\n",
       "      <td>True</td>\n",
       "    </tr>\n",
       "    <tr>\n",
       "      <th>2</th>\n",
       "      <td>0003_01</td>\n",
       "      <td>Europa</td>\n",
       "      <td>False</td>\n",
       "      <td>A/0/S</td>\n",
       "      <td>TRAPPIST-1e</td>\n",
       "      <td>58.0</td>\n",
       "      <td>True</td>\n",
       "      <td>43.0</td>\n",
       "      <td>3576.0</td>\n",
       "      <td>0.0</td>\n",
       "      <td>6715.0</td>\n",
       "      <td>49.0</td>\n",
       "      <td>Altark Susent</td>\n",
       "      <td>False</td>\n",
       "    </tr>\n",
       "    <tr>\n",
       "      <th>3</th>\n",
       "      <td>0003_02</td>\n",
       "      <td>Europa</td>\n",
       "      <td>False</td>\n",
       "      <td>A/0/S</td>\n",
       "      <td>TRAPPIST-1e</td>\n",
       "      <td>33.0</td>\n",
       "      <td>False</td>\n",
       "      <td>0.0</td>\n",
       "      <td>1283.0</td>\n",
       "      <td>371.0</td>\n",
       "      <td>3329.0</td>\n",
       "      <td>193.0</td>\n",
       "      <td>Solam Susent</td>\n",
       "      <td>False</td>\n",
       "    </tr>\n",
       "    <tr>\n",
       "      <th>4</th>\n",
       "      <td>0004_01</td>\n",
       "      <td>Earth</td>\n",
       "      <td>False</td>\n",
       "      <td>F/1/S</td>\n",
       "      <td>TRAPPIST-1e</td>\n",
       "      <td>16.0</td>\n",
       "      <td>False</td>\n",
       "      <td>303.0</td>\n",
       "      <td>70.0</td>\n",
       "      <td>151.0</td>\n",
       "      <td>565.0</td>\n",
       "      <td>2.0</td>\n",
       "      <td>Willy Santantines</td>\n",
       "      <td>True</td>\n",
       "    </tr>\n",
       "  </tbody>\n",
       "</table>\n",
       "</div>"
      ],
      "text/plain": [
       "  PassengerId HomePlanet CryoSleep  Cabin  Destination   Age    VIP  \\\n",
       "0     0001_01     Europa     False  B/0/P  TRAPPIST-1e  39.0  False   \n",
       "1     0002_01      Earth     False  F/0/S  TRAPPIST-1e  24.0  False   \n",
       "2     0003_01     Europa     False  A/0/S  TRAPPIST-1e  58.0   True   \n",
       "3     0003_02     Europa     False  A/0/S  TRAPPIST-1e  33.0  False   \n",
       "4     0004_01      Earth     False  F/1/S  TRAPPIST-1e  16.0  False   \n",
       "\n",
       "   RoomService  FoodCourt  ShoppingMall     Spa  VRDeck               Name  \\\n",
       "0          0.0        0.0           0.0     0.0     0.0    Maham Ofracculy   \n",
       "1        109.0        9.0          25.0   549.0    44.0       Juanna Vines   \n",
       "2         43.0     3576.0           0.0  6715.0    49.0      Altark Susent   \n",
       "3          0.0     1283.0         371.0  3329.0   193.0       Solam Susent   \n",
       "4        303.0       70.0         151.0   565.0     2.0  Willy Santantines   \n",
       "\n",
       "   Transported  \n",
       "0        False  \n",
       "1         True  \n",
       "2        False  \n",
       "3        False  \n",
       "4         True  "
      ]
     },
     "execution_count": 5,
     "metadata": {},
     "output_type": "execute_result"
    }
   ],
   "source": [
    "data.head()"
   ]
  },
  {
   "cell_type": "code",
   "execution_count": 6,
   "metadata": {},
   "outputs": [],
   "source": [
    "# Data preprocessing\n",
    "\n",
    "# Drop Rows with Missing Values\n",
    "data.fillna(0, inplace=True)\n",
    "\n",
    "# Drop the Passenger ID Column as its the Unique Identifier\n",
    "data.drop('PassengerId', inplace=True, axis=1)\n",
    "\n",
    "# Convert mixed type columns to string\n",
    "for col in data.columns:\n",
    "    if data[col].dtype == 'object':\n",
    "        data[col] = data[col].astype(str)\n",
    "\n",
    "# Identify categorical columns\n",
    "categorical_cols = [col for col in data.columns if data[col].dtype == 'object']\n",
    "\n",
    "# Apply label encoding to categorical columns\n",
    "oe = {}\n",
    "for col in categorical_cols:\n",
    "    oe[col] = OrdinalEncoder(handle_unknown='use_encoded_value', unknown_value=-1)\n",
    "    data[col] = oe[col].fit_transform(data[col].values.reshape(-1, 1))\n",
    "\n",
    "# Separating features and target\n",
    "X = data.drop('Transported', axis=1)\n",
    "y = data['Transported']\n",
    "\n",
    "# Split the data into training and testing sets\n",
    "X_train, X_test, y_train, y_test = train_test_split(X, y, test_size=0.2, random_state=42)"
   ]
  },
  {
   "cell_type": "code",
   "execution_count": 7,
   "metadata": {},
   "outputs": [
    {
     "data": {
      "text/plain": [
       "(((6954, 12), (6954,)), ((1739, 12), (1739,)))"
      ]
     },
     "execution_count": 7,
     "metadata": {},
     "output_type": "execute_result"
    }
   ],
   "source": [
    "(X_train.shape, y_train.shape), (X_test.shape, y_test.shape)"
   ]
  },
  {
   "cell_type": "code",
   "execution_count": 8,
   "metadata": {},
   "outputs": [],
   "source": [
    "def objective(trial):\n",
    "    \"\"\"\n",
    "    Defining the objective function for Optuna with feature selection\n",
    "    \"\"\"\n",
    "    n_estimators = trial.suggest_int('n_estimators', 100, 1000)\n",
    "    max_depth = trial.suggest_int('max_depth', 2, 32)\n",
    "    # Number of features to select\n",
    "    k_best = trial.suggest_int('k_best', 1, X_train.shape[1])  \n",
    "\n",
    "    # Feature selection\n",
    "    select_k_best = SelectKBest(score_func=f_classif, k=k_best) # SelectKBest: Esta clase se utiliza para seleccionar las k mejores características según un criterio de puntuación. En este caso, f_classif se utiliza como la función de puntuación, que es adecuada para clasificación.\n",
    "    preprocessor = ColumnTransformer([('select', select_k_best, X.columns)], remainder='passthrough') # Se define un transformador de columnas que aplica la selección de características a las columnas especificadas en X.columns. El parámetro remainder='passthrough' asegura que las columnas no seleccionadas se mantengan sin cambios.\n",
    "    \n",
    "    # Building the model pipeline\n",
    "    clf = Pipeline(steps=[('preprocessor', preprocessor),\n",
    "                          ('classifier', RandomForestClassifier(n_estimators=n_estimators, max_depth=max_depth, random_state=42))]) # Se crea un pipeline que encadena el preprocesador y el clasificador. Esto simplifica el proceso de entrenamiento y predicción, asegurando que las transformaciones se apliquen correctamente. RandomForestClassifier: Se inicializa el clasificador con los hiperparámetros sugeridos (número de estimadores y profundidad máxima).\n",
    "\n",
    "    clf.fit(X_train, y_train) # Se entrena el modelo (clf) usando los datos de entrenamiento (X_train, y_train).\n",
    "    y_pred = clf.predict(X_test) # Se realizan predicciones sobre el conjunto de prueba (X_test).\n",
    "    accuracy = accuracy_score(y_test, y_pred) # Se calcula la precisión del modelo utilizando la función accuracy_score, comparando las predicciones (y_pred) con las etiquetas verdaderas (y_test).\n",
    "    \n",
    "    # Storing the trained classifier in the study object\n",
    "    trial.set_user_attr('classifier', clf) # almacena el clasificador entrenado en el objeto trial. Esto puede ser útil para análisis posteriores o para evaluar el rendimiento del modelo después de la optimización\n",
    "    return accuracy"
   ]
  },
  {
   "cell_type": "code",
   "execution_count": 9,
   "metadata": {},
   "outputs": [
    {
     "name": "stderr",
     "output_type": "stream",
     "text": [
      "[I 2024-09-23 12:47:44,271] A new study created in memory with name: best_features_and_hyperparameters\n",
      "[I 2024-09-23 12:47:49,218] Trial 0 finished with value: 0.7659574468085106 and parameters: {'n_estimators': 393, 'max_depth': 28, 'k_best': 10}. Best is trial 0 with value: 0.7659574468085106.\n",
      "[I 2024-09-23 12:47:50,447] Trial 1 finished with value: 0.7561817136285222 and parameters: {'n_estimators': 250, 'max_depth': 3, 'k_best': 11}. Best is trial 0 with value: 0.7659574468085106.\n",
      "[I 2024-09-23 12:47:54,725] Trial 2 finished with value: 0.7625071880391029 and parameters: {'n_estimators': 506, 'max_depth': 18, 'k_best': 5}. Best is trial 0 with value: 0.7659574468085106.\n",
      "[I 2024-09-23 12:48:03,018] Trial 3 finished with value: 0.7780333525014376 and parameters: {'n_estimators': 620, 'max_depth': 18, 'k_best': 12}. Best is trial 3 with value: 0.7780333525014376.\n",
      "[I 2024-09-23 12:48:07,126] Trial 4 finished with value: 0.7613571017826337 and parameters: {'n_estimators': 909, 'max_depth': 3, 'k_best': 9}. Best is trial 3 with value: 0.7780333525014376.\n",
      "[I 2024-09-23 12:48:10,552] Trial 5 finished with value: 0.7763082231167338 and parameters: {'n_estimators': 228, 'max_depth': 31, 'k_best': 12}. Best is trial 3 with value: 0.7780333525014376.\n",
      "[I 2024-09-23 12:48:16,108] Trial 6 finished with value: 0.7883841288096607 and parameters: {'n_estimators': 677, 'max_depth': 8, 'k_best': 11}. Best is trial 6 with value: 0.7883841288096607.\n",
      "[I 2024-09-23 12:48:17,869] Trial 7 finished with value: 0.7211040828062104 and parameters: {'n_estimators': 413, 'max_depth': 4, 'k_best': 2}. Best is trial 6 with value: 0.7883841288096607.\n",
      "[I 2024-09-23 12:48:23,081] Trial 8 finished with value: 0.7648073605520413 and parameters: {'n_estimators': 460, 'max_depth': 25, 'k_best': 8}. Best is trial 6 with value: 0.7883841288096607.\n",
      "[I 2024-09-23 12:48:26,925] Trial 9 finished with value: 0.7694077055779184 and parameters: {'n_estimators': 342, 'max_depth': 15, 'k_best': 9}. Best is trial 6 with value: 0.7883841288096607.\n",
      "[I 2024-09-23 12:48:31,024] Trial 10 finished with value: 0.772857964347326 and parameters: {'n_estimators': 739, 'max_depth': 10, 'k_best': 5}. Best is trial 6 with value: 0.7883841288096607.\n",
      "[I 2024-09-23 12:48:40,000] Trial 11 finished with value: 0.7757331799884991 and parameters: {'n_estimators': 673, 'max_depth': 20, 'k_best': 12}. Best is trial 6 with value: 0.7883841288096607.\n",
      "[I 2024-09-23 12:48:43,470] Trial 12 finished with value: 0.772857964347326 and parameters: {'n_estimators': 643, 'max_depth': 11, 'k_best': 6}. Best is trial 6 with value: 0.7883841288096607.\n",
      "[I 2024-09-23 12:48:51,951] Trial 13 finished with value: 0.7906843013225991 and parameters: {'n_estimators': 848, 'max_depth': 10, 'k_best': 12}. Best is trial 13 with value: 0.7906843013225991.\n",
      "[I 2024-09-23 12:48:55,386] Trial 14 finished with value: 0.7119033927544566 and parameters: {'n_estimators': 869, 'max_depth': 9, 'k_best': 2}. Best is trial 13 with value: 0.7906843013225991.\n",
      "[I 2024-09-23 12:49:01,317] Trial 15 finished with value: 0.7682576193214491 and parameters: {'n_estimators': 999, 'max_depth': 7, 'k_best': 8}. Best is trial 13 with value: 0.7906843013225991.\n",
      "[I 2024-09-23 12:49:09,645] Trial 16 finished with value: 0.772857964347326 and parameters: {'n_estimators': 780, 'max_depth': 14, 'k_best': 10}. Best is trial 13 with value: 0.7906843013225991.\n",
      "[I 2024-09-23 12:49:16,098] Trial 17 finished with value: 0.7826336975273146 and parameters: {'n_estimators': 821, 'max_depth': 7, 'k_best': 11}. Best is trial 13 with value: 0.7906843013225991.\n",
      "[I 2024-09-23 12:49:24,482] Trial 18 finished with value: 0.7711328349626222 and parameters: {'n_estimators': 961, 'max_depth': 13, 'k_best': 8}. Best is trial 13 with value: 0.7906843013225991.\n",
      "[I 2024-09-23 12:49:31,616] Trial 19 finished with value: 0.7665324899367453 and parameters: {'n_estimators': 592, 'max_depth': 22, 'k_best': 10}. Best is trial 13 with value: 0.7906843013225991.\n",
      "[I 2024-09-23 12:49:34,985] Trial 20 finished with value: 0.7630822311673375 and parameters: {'n_estimators': 717, 'max_depth': 6, 'k_best': 4}. Best is trial 13 with value: 0.7906843013225991.\n",
      "[I 2024-09-23 12:49:41,134] Trial 21 finished with value: 0.7832087406555491 and parameters: {'n_estimators': 832, 'max_depth': 7, 'k_best': 11}. Best is trial 13 with value: 0.7906843013225991.\n",
      "[I 2024-09-23 12:49:49,540] Trial 22 finished with value: 0.7883841288096607 and parameters: {'n_estimators': 841, 'max_depth': 12, 'k_best': 11}. Best is trial 13 with value: 0.7906843013225991.\n",
      "[I 2024-09-23 12:49:50,947] Trial 23 finished with value: 0.7883841288096607 and parameters: {'n_estimators': 116, 'max_depth': 11, 'k_best': 12}. Best is trial 13 with value: 0.7906843013225991.\n",
      "[I 2024-09-23 12:50:01,470] Trial 24 finished with value: 0.7717078780908568 and parameters: {'n_estimators': 896, 'max_depth': 15, 'k_best': 9}. Best is trial 13 with value: 0.7906843013225991.\n",
      "[I 2024-09-23 12:50:06,352] Trial 25 finished with value: 0.7757331799884991 and parameters: {'n_estimators': 748, 'max_depth': 12, 'k_best': 7}. Best is trial 13 with value: 0.7906843013225991.\n",
      "[I 2024-09-23 12:50:10,990] Trial 26 finished with value: 0.7906843013225991 and parameters: {'n_estimators': 557, 'max_depth': 9, 'k_best': 11}. Best is trial 13 with value: 0.7906843013225991.\n",
      "[I 2024-09-23 12:50:15,483] Trial 27 finished with value: 0.7843588269120184 and parameters: {'n_estimators': 544, 'max_depth': 9, 'k_best': 10}. Best is trial 13 with value: 0.7906843013225991.\n",
      "[I 2024-09-23 12:50:19,401] Trial 28 finished with value: 0.7763082231167338 and parameters: {'n_estimators': 699, 'max_depth': 5, 'k_best': 11}. Best is trial 13 with value: 0.7906843013225991.\n",
      "[I 2024-09-23 12:50:21,534] Trial 29 finished with value: 0.7429557216791259 and parameters: {'n_estimators': 569, 'max_depth': 2, 'k_best': 10}. Best is trial 13 with value: 0.7906843013225991.\n",
      "[I 2024-09-23 12:50:27,498] Trial 30 finished with value: 0.7837837837837838 and parameters: {'n_estimators': 481, 'max_depth': 16, 'k_best': 12}. Best is trial 13 with value: 0.7906843013225991.\n",
      "[I 2024-09-23 12:50:33,808] Trial 31 finished with value: 0.7901092581943646 and parameters: {'n_estimators': 786, 'max_depth': 9, 'k_best': 11}. Best is trial 13 with value: 0.7906843013225991.\n",
      "[I 2024-09-23 12:50:38,622] Trial 32 finished with value: 0.7878090856814262 and parameters: {'n_estimators': 649, 'max_depth': 8, 'k_best': 11}. Best is trial 13 with value: 0.7906843013225991.\n",
      "[I 2024-09-23 12:50:42,998] Trial 33 finished with value: 0.7722829212190915 and parameters: {'n_estimators': 762, 'max_depth': 5, 'k_best': 9}. Best is trial 13 with value: 0.7906843013225991.\n",
      "[I 2024-09-23 12:50:49,224] Trial 34 finished with value: 0.7832087406555491 and parameters: {'n_estimators': 798, 'max_depth': 9, 'k_best': 10}. Best is trial 13 with value: 0.7906843013225991.\n",
      "[I 2024-09-23 12:50:56,016] Trial 35 finished with value: 0.777458309373203 and parameters: {'n_estimators': 528, 'max_depth': 18, 'k_best': 12}. Best is trial 13 with value: 0.7906843013225991.\n",
      "[I 2024-09-23 12:50:57,576] Trial 36 finished with value: 0.714203565267395 and parameters: {'n_estimators': 609, 'max_depth': 2, 'k_best': 1}. Best is trial 13 with value: 0.7906843013225991.\n",
      "[I 2024-09-23 12:51:02,458] Trial 37 finished with value: 0.7671075330649799 and parameters: {'n_estimators': 920, 'max_depth': 4, 'k_best': 12}. Best is trial 13 with value: 0.7906843013225991.\n",
      "[I 2024-09-23 12:51:07,422] Trial 38 finished with value: 0.7665324899367453 and parameters: {'n_estimators': 401, 'max_depth': 32, 'k_best': 10}. Best is trial 13 with value: 0.7906843013225991.\n",
      "[I 2024-09-23 12:51:10,937] Trial 39 finished with value: 0.7763082231167338 and parameters: {'n_estimators': 319, 'max_depth': 13, 'k_best': 9}. Best is trial 13 with value: 0.7906843013225991.\n",
      "[I 2024-09-23 12:51:16,869] Trial 40 finished with value: 0.7901092581943646 and parameters: {'n_estimators': 669, 'max_depth': 10, 'k_best': 11}. Best is trial 13 with value: 0.7906843013225991.\n",
      "[I 2024-09-23 12:51:22,847] Trial 41 finished with value: 0.7889591719378953 and parameters: {'n_estimators': 681, 'max_depth': 10, 'k_best': 11}. Best is trial 13 with value: 0.7906843013225991.\n",
      "[I 2024-09-23 12:51:28,887] Trial 42 finished with value: 0.78953421506613 and parameters: {'n_estimators': 666, 'max_depth': 11, 'k_best': 11}. Best is trial 13 with value: 0.7906843013225991.\n",
      "[I 2024-09-23 12:51:35,143] Trial 43 finished with value: 0.7872340425531915 and parameters: {'n_estimators': 601, 'max_depth': 11, 'k_best': 12}. Best is trial 13 with value: 0.7906843013225991.\n",
      "[I 2024-09-23 12:51:42,862] Trial 44 finished with value: 0.7814836112708453 and parameters: {'n_estimators': 719, 'max_depth': 14, 'k_best': 11}. Best is trial 13 with value: 0.7906843013225991.\n",
      "[I 2024-09-23 12:51:49,152] Trial 45 finished with value: 0.7763082231167338 and parameters: {'n_estimators': 441, 'max_depth': 29, 'k_best': 12}. Best is trial 13 with value: 0.7906843013225991.\n",
      "[I 2024-09-23 12:51:54,107] Trial 46 finished with value: 0.7849338700402531 and parameters: {'n_estimators': 511, 'max_depth': 10, 'k_best': 9}. Best is trial 13 with value: 0.7906843013225991.\n",
      "[I 2024-09-23 12:51:59,206] Trial 47 finished with value: 0.7717078780908568 and parameters: {'n_estimators': 644, 'max_depth': 17, 'k_best': 7}. Best is trial 13 with value: 0.7906843013225991.\n",
      "[I 2024-09-23 12:52:04,540] Trial 48 finished with value: 0.7814836112708453 and parameters: {'n_estimators': 875, 'max_depth': 6, 'k_best': 11}. Best is trial 13 with value: 0.7906843013225991.\n",
      "[I 2024-09-23 12:52:10,433] Trial 49 finished with value: 0.7780333525014376 and parameters: {'n_estimators': 785, 'max_depth': 8, 'k_best': 10}. Best is trial 13 with value: 0.7906843013225991.\n"
     ]
    }
   ],
   "source": [
    "# Running the optimization\n",
    "study = optuna.create_study(study_name='best_features_and_hyperparameters', direction='maximize') # optuna.create_study(...) es una función que se utiliza para crear un nuevo objeto de estudio. Un estudio en Optuna es un contenedor para todas las pruebas (trials) que se realizarán durante la optimización. Tiene dos parámetros: 1. study_name='best_features_and_hyperparameters': Este es el nombre que se le asigna al estudio. Puedes usar este nombre para identificar el estudio en la base de datos de Optuna, especialmente si estás guardando resultados o usando la interfaz de visualización. 2. direction='maximize': Este parámetro indica que el objetivo de la optimización es maximizar el valor que se devolverá en la función objetivo (en este caso, la precisión del modelo). Si en lugar de maximizar quisieras minimizar un valor (como la pérdida), usarías direction='minimize'.\n",
    "study.optimize(objective, n_trials=50) # study.optimize(...): es un método que ejecuta el proceso de optimización, llamando repetidamente a la función objetivo para encontrar la mejor combinación de hiperparámetros y características. Tiene dos parámetros: 1. objective: Este es el nombre de la función objetivo que se definió anteriormente. Optuna la llamará múltiples veces con diferentes configuraciones de hiperparámetros, que se generan automáticamente. 2. n_trials=50: Este parámetro indica el número total de pruebas (trials) que se realizarán. En cada prueba, Optuna selecciona un conjunto diferente de hiperparámetros y características que serán probados en el modelo. En este caso, se realizarán 50 pruebas diferentes."
   ]
  },
  {
   "cell_type": "code",
   "execution_count": 10,
   "metadata": {},
   "outputs": [
    {
     "name": "stdout",
     "output_type": "stream",
     "text": [
      "Best hyperparameters:  {'n_estimators': 848, 'max_depth': 10, 'k_best': 12}\n",
      "Selected features:  Index(['HomePlanet', 'CryoSleep', 'Cabin', 'Destination', 'Age', 'VIP',\n",
      "       'RoomService', 'FoodCourt', 'ShoppingMall', 'Spa', 'VRDeck', 'Name'],\n",
      "      dtype='object')\n"
     ]
    }
   ],
   "source": [
    "# Extracting the best hyperparameters and selected features\n",
    "print('Best hyperparameters: ', study.best_params) # study.best_params: Este atributo contiene un diccionario con los mejores hiperparámetros que Optuna encontró durante el proceso de optimización. Los hiperparámetros se refieren a los valores óptimos que maximizan el rendimiento del modelo según la función objetivo definida.\n",
    "best_trial = study.best_trial # study.best_trial: Este atributo proporciona acceso al trial (prueba) que produjo el mejor resultado durante la optimización. Incluye información sobre los hiperparámetros utilizados, el valor de la función objetivo (por ejemplo, la precisión del modelo), y otros metadatos relevantes.\n",
    "selected_features = SelectKBest(score_func=f_classif, \n",
    "                                k=best_trial.params['k_best']).fit(X_train, y_train) # SelectKBest: Esta clase se utiliza para seleccionar las k mejores características según una función de puntuación. En este caso, f_classif es la función de puntuación que evalúa la relación entre las características y la variable objetivo.\n",
    "\n",
    "                                # SelectKBest: Esta clase se utiliza para seleccionar las k mejores características según una función de puntuación. En este caso, f_classif es la función de puntuación que evalúa la relación entre las características y la variable objetivo.\n",
    "                                \n",
    "                                # k=best_trial.params['k_best']: Aquí, se utiliza el valor de k_best que se encontró durante la optimización como el número de características a seleccionar. Este valor se extrae del mejor trial.\n",
    "                                \n",
    "                                # .fit(X_train, y_train): Este método ajusta el selector de características a los datos de entrenamiento, calculando las puntuaciones de las características y seleccionando las mejores.\n",
    "\n",
    "print('Selected features: ', X.columns[selected_features.get_support()]) # selected_features.get_support(): Este método devuelve un array booleano que indica qué características han sido seleccionadas por el SelectKBest. Devuelve True para las características seleccionadas y False para las que no lo son.\n",
    "\n",
    "# X.columns[...]: Aquí se utilizan los índices booleanos para filtrar las columnas de X. Esto devuelve solo las columnas (características) que han sido seleccionadas."
   ]
  },
  {
   "cell_type": "code",
   "execution_count": 12,
   "metadata": {},
   "outputs": [],
   "source": [
    "# Load Submission Data\n",
    "submission_data = pd.read_csv('test.csv')\n",
    "\n",
    "# Drop Rows with Missing Values\n",
    "submission_data.fillna(0, inplace=True)\n",
    "\n",
    "# Applying the label encoders to the submission data\n",
    "for column, encoder in oe.items():\n",
    "    submission_data[column] = encoder.transform(submission_data[column].values.reshape(-1, 1))\n",
    "    \n",
    "# Generate Sample Submission\n",
    "best_clf = best_trial.user_attrs['classifier']\n",
    "y_pred = best_clf.predict(submission_data)\n",
    "submission_data['Transported'] = y_pred\n",
    "\n",
    "# Only keep required columns for submission\n",
    "submission_data = submission_data[['PassengerId', 'Transported']]\n",
    "\n",
    "# Save the DataFrame to Kaggle Directory and Upload to Submit\n",
    "submission_data.to_csv('submission.csv', index=False, header=True)"
   ]
  }
 ],
 "metadata": {
  "kernelspec": {
   "display_name": "env",
   "language": "python",
   "name": "python3"
  },
  "language_info": {
   "codemirror_mode": {
    "name": "ipython",
    "version": 3
   },
   "file_extension": ".py",
   "mimetype": "text/x-python",
   "name": "python",
   "nbconvert_exporter": "python",
   "pygments_lexer": "ipython3",
   "version": "3.12.1"
  }
 },
 "nbformat": 4,
 "nbformat_minor": 2
}
