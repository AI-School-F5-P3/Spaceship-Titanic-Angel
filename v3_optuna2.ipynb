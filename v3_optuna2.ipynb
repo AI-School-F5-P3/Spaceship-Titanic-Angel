{
 "cells": [
  {
   "cell_type": "code",
   "execution_count": 14,
   "metadata": {},
   "outputs": [],
   "source": [
    "# Importando las librerías necesarias\n",
    "import pandas as pd\n",
    "import numpy as np\n",
    "from sklearn.preprocessing import OrdinalEncoder\n",
    "from sklearn.model_selection import train_test_split\n",
    "from sklearn.ensemble import RandomForestClassifier\n",
    "from sklearn.metrics import accuracy_score\n",
    "# Importando las librerías para la selección de características\n",
    "from sklearn.feature_selection import SelectKBest, f_classif\n",
    "from sklearn.pipeline import Pipeline\n",
    "from sklearn.compose import ColumnTransformer\n",
    "import optuna"
   ]
  },
  {
   "cell_type": "code",
   "execution_count": 15,
   "metadata": {},
   "outputs": [],
   "source": [
    "# Cargar los datos de entrenamiento y prueba\n",
    "data = pd.read_csv('train.csv')"
   ]
  },
  {
   "cell_type": "code",
   "execution_count": 16,
   "metadata": {},
   "outputs": [
    {
     "data": {
      "text/plain": [
       "(8693, 14)"
      ]
     },
     "execution_count": 16,
     "metadata": {},
     "output_type": "execute_result"
    }
   ],
   "source": [
    "data.shape"
   ]
  },
  {
   "cell_type": "code",
   "execution_count": 17,
   "metadata": {},
   "outputs": [
    {
     "data": {
      "text/html": [
       "<div>\n",
       "<style scoped>\n",
       "    .dataframe tbody tr th:only-of-type {\n",
       "        vertical-align: middle;\n",
       "    }\n",
       "\n",
       "    .dataframe tbody tr th {\n",
       "        vertical-align: top;\n",
       "    }\n",
       "\n",
       "    .dataframe thead th {\n",
       "        text-align: right;\n",
       "    }\n",
       "</style>\n",
       "<table border=\"1\" class=\"dataframe\">\n",
       "  <thead>\n",
       "    <tr style=\"text-align: right;\">\n",
       "      <th></th>\n",
       "      <th>PassengerId</th>\n",
       "      <th>HomePlanet</th>\n",
       "      <th>CryoSleep</th>\n",
       "      <th>Cabin</th>\n",
       "      <th>Destination</th>\n",
       "      <th>Age</th>\n",
       "      <th>VIP</th>\n",
       "      <th>RoomService</th>\n",
       "      <th>FoodCourt</th>\n",
       "      <th>ShoppingMall</th>\n",
       "      <th>Spa</th>\n",
       "      <th>VRDeck</th>\n",
       "      <th>Name</th>\n",
       "      <th>Transported</th>\n",
       "    </tr>\n",
       "  </thead>\n",
       "  <tbody>\n",
       "    <tr>\n",
       "      <th>0</th>\n",
       "      <td>0001_01</td>\n",
       "      <td>Europa</td>\n",
       "      <td>False</td>\n",
       "      <td>B/0/P</td>\n",
       "      <td>TRAPPIST-1e</td>\n",
       "      <td>39.0</td>\n",
       "      <td>False</td>\n",
       "      <td>0.0</td>\n",
       "      <td>0.0</td>\n",
       "      <td>0.0</td>\n",
       "      <td>0.0</td>\n",
       "      <td>0.0</td>\n",
       "      <td>Maham Ofracculy</td>\n",
       "      <td>False</td>\n",
       "    </tr>\n",
       "    <tr>\n",
       "      <th>1</th>\n",
       "      <td>0002_01</td>\n",
       "      <td>Earth</td>\n",
       "      <td>False</td>\n",
       "      <td>F/0/S</td>\n",
       "      <td>TRAPPIST-1e</td>\n",
       "      <td>24.0</td>\n",
       "      <td>False</td>\n",
       "      <td>109.0</td>\n",
       "      <td>9.0</td>\n",
       "      <td>25.0</td>\n",
       "      <td>549.0</td>\n",
       "      <td>44.0</td>\n",
       "      <td>Juanna Vines</td>\n",
       "      <td>True</td>\n",
       "    </tr>\n",
       "    <tr>\n",
       "      <th>2</th>\n",
       "      <td>0003_01</td>\n",
       "      <td>Europa</td>\n",
       "      <td>False</td>\n",
       "      <td>A/0/S</td>\n",
       "      <td>TRAPPIST-1e</td>\n",
       "      <td>58.0</td>\n",
       "      <td>True</td>\n",
       "      <td>43.0</td>\n",
       "      <td>3576.0</td>\n",
       "      <td>0.0</td>\n",
       "      <td>6715.0</td>\n",
       "      <td>49.0</td>\n",
       "      <td>Altark Susent</td>\n",
       "      <td>False</td>\n",
       "    </tr>\n",
       "    <tr>\n",
       "      <th>3</th>\n",
       "      <td>0003_02</td>\n",
       "      <td>Europa</td>\n",
       "      <td>False</td>\n",
       "      <td>A/0/S</td>\n",
       "      <td>TRAPPIST-1e</td>\n",
       "      <td>33.0</td>\n",
       "      <td>False</td>\n",
       "      <td>0.0</td>\n",
       "      <td>1283.0</td>\n",
       "      <td>371.0</td>\n",
       "      <td>3329.0</td>\n",
       "      <td>193.0</td>\n",
       "      <td>Solam Susent</td>\n",
       "      <td>False</td>\n",
       "    </tr>\n",
       "    <tr>\n",
       "      <th>4</th>\n",
       "      <td>0004_01</td>\n",
       "      <td>Earth</td>\n",
       "      <td>False</td>\n",
       "      <td>F/1/S</td>\n",
       "      <td>TRAPPIST-1e</td>\n",
       "      <td>16.0</td>\n",
       "      <td>False</td>\n",
       "      <td>303.0</td>\n",
       "      <td>70.0</td>\n",
       "      <td>151.0</td>\n",
       "      <td>565.0</td>\n",
       "      <td>2.0</td>\n",
       "      <td>Willy Santantines</td>\n",
       "      <td>True</td>\n",
       "    </tr>\n",
       "  </tbody>\n",
       "</table>\n",
       "</div>"
      ],
      "text/plain": [
       "  PassengerId HomePlanet CryoSleep  Cabin  Destination   Age    VIP  \\\n",
       "0     0001_01     Europa     False  B/0/P  TRAPPIST-1e  39.0  False   \n",
       "1     0002_01      Earth     False  F/0/S  TRAPPIST-1e  24.0  False   \n",
       "2     0003_01     Europa     False  A/0/S  TRAPPIST-1e  58.0   True   \n",
       "3     0003_02     Europa     False  A/0/S  TRAPPIST-1e  33.0  False   \n",
       "4     0004_01      Earth     False  F/1/S  TRAPPIST-1e  16.0  False   \n",
       "\n",
       "   RoomService  FoodCourt  ShoppingMall     Spa  VRDeck               Name  \\\n",
       "0          0.0        0.0           0.0     0.0     0.0    Maham Ofracculy   \n",
       "1        109.0        9.0          25.0   549.0    44.0       Juanna Vines   \n",
       "2         43.0     3576.0           0.0  6715.0    49.0      Altark Susent   \n",
       "3          0.0     1283.0         371.0  3329.0   193.0       Solam Susent   \n",
       "4        303.0       70.0         151.0   565.0     2.0  Willy Santantines   \n",
       "\n",
       "   Transported  \n",
       "0        False  \n",
       "1         True  \n",
       "2        False  \n",
       "3        False  \n",
       "4         True  "
      ]
     },
     "execution_count": 17,
     "metadata": {},
     "output_type": "execute_result"
    }
   ],
   "source": [
    "data.head()"
   ]
  },
  {
   "cell_type": "code",
   "execution_count": 18,
   "metadata": {},
   "outputs": [
    {
     "name": "stdout",
     "output_type": "stream",
     "text": [
      "<class 'pandas.core.frame.DataFrame'>\n",
      "RangeIndex: 8693 entries, 0 to 8692\n",
      "Data columns (total 14 columns):\n",
      " #   Column        Non-Null Count  Dtype  \n",
      "---  ------        --------------  -----  \n",
      " 0   PassengerId   8693 non-null   object \n",
      " 1   HomePlanet    8492 non-null   object \n",
      " 2   CryoSleep     8476 non-null   object \n",
      " 3   Cabin         8494 non-null   object \n",
      " 4   Destination   8511 non-null   object \n",
      " 5   Age           8514 non-null   float64\n",
      " 6   VIP           8490 non-null   object \n",
      " 7   RoomService   8512 non-null   float64\n",
      " 8   FoodCourt     8510 non-null   float64\n",
      " 9   ShoppingMall  8485 non-null   float64\n",
      " 10  Spa           8510 non-null   float64\n",
      " 11  VRDeck        8505 non-null   float64\n",
      " 12  Name          8493 non-null   object \n",
      " 13  Transported   8693 non-null   bool   \n",
      "dtypes: bool(1), float64(6), object(7)\n",
      "memory usage: 891.5+ KB\n"
     ]
    }
   ],
   "source": [
    "data.info()"
   ]
  },
  {
   "cell_type": "code",
   "execution_count": 20,
   "metadata": {},
   "outputs": [],
   "source": [
    "from sklearn.impute import SimpleImputer\n",
    "\n",
    "# Identificar características continuas y categóricas\n",
    "continuous_cols = data.select_dtypes(include=['float64', 'int64']).columns\n",
    "categorical_cols = data.select_dtypes(include=['object']).columns\n",
    "\n",
    "# Imputación de la mediana para las características continuas\n",
    "imputer_median = SimpleImputer(strategy='median')\n",
    "data[continuous_cols] = imputer_median.fit_transform(data[continuous_cols])\n",
    "\n",
    "# Imputación de la moda para las características categóricas\n",
    "imputer_mode = SimpleImputer(strategy='most_frequent')\n",
    "data[categorical_cols] = imputer_mode.fit_transform(data[categorical_cols])\n",
    "\n",
    "# Eliminar la columna PassengerId ya que es un identificador único\n",
    "# data.drop('PassengerId', inplace=True, axis=1)\n",
    "\n",
    "# Convertir las columnas mixtas en tipo string (si aplica)\n",
    "for col in data.columns:\n",
    "    if data[col].dtype == 'object':\n",
    "        data[col] = data[col].astype(str)\n",
    "\n",
    "# Aplicar Label Encoding a las columnas categóricas\n",
    "oe = {}\n",
    "for col in categorical_cols:\n",
    "    oe[col] = OrdinalEncoder(handle_unknown='use_encoded_value', unknown_value=-1)\n",
    "    data[col] = oe[col].fit_transform(data[col].values.reshape(-1, 1))\n",
    "\n",
    "# Separar características (X) y la variable objetivo (y)\n",
    "X = data.drop('Transported', axis=1)\n",
    "y = data['Transported']\n",
    "\n",
    "# Dividir los datos en conjuntos de entrenamiento y prueba\n",
    "X_train, X_test, y_train, y_test = train_test_split(X, y, test_size=0.2, random_state=42)"
   ]
  },
  {
   "cell_type": "code",
   "execution_count": 21,
   "metadata": {},
   "outputs": [
    {
     "data": {
      "text/plain": [
       "(((6954, 12), (6954,)), ((1739, 12), (1739,)))"
      ]
     },
     "execution_count": 21,
     "metadata": {},
     "output_type": "execute_result"
    }
   ],
   "source": [
    "(X_train.shape, y_train.shape), (X_test.shape, y_test.shape)"
   ]
  },
  {
   "cell_type": "code",
   "execution_count": 22,
   "metadata": {},
   "outputs": [],
   "source": [
    "def objective(trial):\n",
    "    \"\"\"\n",
    "    Defining the objective function for Optuna with feature selection\n",
    "    \"\"\"\n",
    "    n_estimators = trial.suggest_int('n_estimators', 100, 1000)\n",
    "    max_depth = trial.suggest_int('max_depth', 2, 32)\n",
    "    # Number of features to select\n",
    "    k_best = trial.suggest_int('k_best', 1, X_train.shape[1])  \n",
    "\n",
    "    # Feature selection\n",
    "    select_k_best = SelectKBest(score_func=f_classif, k=k_best) # SelectKBest: Esta clase se utiliza para seleccionar las k mejores características según un criterio de puntuación. En este caso, f_classif se utiliza como la función de puntuación, que es adecuada para clasificación.\n",
    "    preprocessor = ColumnTransformer([('select', select_k_best, X.columns)], remainder='passthrough') # Se define un transformador de columnas que aplica la selección de características a las columnas especificadas en X.columns. El parámetro remainder='passthrough' asegura que las columnas no seleccionadas se mantengan sin cambios.\n",
    "    \n",
    "    # Building the model pipeline\n",
    "    clf = Pipeline(steps=[('preprocessor', preprocessor),\n",
    "                          ('classifier', RandomForestClassifier(n_estimators=n_estimators, max_depth=max_depth, random_state=42))]) # Se crea un pipeline que encadena el preprocesador y el clasificador. Esto simplifica el proceso de entrenamiento y predicción, asegurando que las transformaciones se apliquen correctamente. RandomForestClassifier: Se inicializa el clasificador con los hiperparámetros sugeridos (número de estimadores y profundidad máxima).\n",
    "\n",
    "    clf.fit(X_train, y_train) # Se entrena el modelo (clf) usando los datos de entrenamiento (X_train, y_train).\n",
    "    y_pred = clf.predict(X_test) # Se realizan predicciones sobre el conjunto de prueba (X_test).\n",
    "    accuracy = accuracy_score(y_test, y_pred) # Se calcula la precisión del modelo utilizando la función accuracy_score, comparando las predicciones (y_pred) con las etiquetas verdaderas (y_test).\n",
    "    \n",
    "    # Storing the trained classifier in the study object\n",
    "    trial.set_user_attr('classifier', clf) # almacena el clasificador entrenado en el objeto trial. Esto puede ser útil para análisis posteriores o para evaluar el rendimiento del modelo después de la optimización\n",
    "    return accuracy"
   ]
  },
  {
   "cell_type": "code",
   "execution_count": 23,
   "metadata": {},
   "outputs": [
    {
     "name": "stderr",
     "output_type": "stream",
     "text": [
      "[I 2024-09-23 17:07:44,559] A new study created in memory with name: best_features_and_hyperparameters\n",
      "[I 2024-09-23 17:07:49,535] Trial 0 finished with value: 0.7889591719378953 and parameters: {'n_estimators': 216, 'max_depth': 20, 'k_best': 12}. Best is trial 0 with value: 0.7889591719378953.\n",
      "[I 2024-09-23 17:07:55,197] Trial 1 finished with value: 0.6958021851638873 and parameters: {'n_estimators': 983, 'max_depth': 26, 'k_best': 2}. Best is trial 0 with value: 0.7889591719378953.\n",
      "[I 2024-09-23 17:07:56,003] Trial 2 finished with value: 0.772857964347326 and parameters: {'n_estimators': 120, 'max_depth': 12, 'k_best': 6}. Best is trial 0 with value: 0.7889591719378953.\n",
      "[I 2024-09-23 17:08:02,510] Trial 3 finished with value: 0.7786083956296722 and parameters: {'n_estimators': 538, 'max_depth': 18, 'k_best': 11}. Best is trial 0 with value: 0.7889591719378953.\n",
      "[I 2024-09-23 17:08:05,784] Trial 4 finished with value: 0.7498562392179413 and parameters: {'n_estimators': 884, 'max_depth': 2, 'k_best': 7}. Best is trial 0 with value: 0.7889591719378953.\n",
      "[I 2024-09-23 17:08:08,921] Trial 5 finished with value: 0.7740080506037953 and parameters: {'n_estimators': 473, 'max_depth': 10, 'k_best': 7}. Best is trial 0 with value: 0.7889591719378953.\n",
      "[I 2024-09-23 17:08:15,790] Trial 6 finished with value: 0.7487061529614721 and parameters: {'n_estimators': 938, 'max_depth': 23, 'k_best': 6}. Best is trial 0 with value: 0.7889591719378953.\n",
      "[I 2024-09-23 17:08:23,317] Trial 7 finished with value: 0.7584818861414606 and parameters: {'n_estimators': 915, 'max_depth': 21, 'k_best': 7}. Best is trial 0 with value: 0.7889591719378953.\n",
      "[I 2024-09-23 17:08:29,013] Trial 8 finished with value: 0.7165037377803335 and parameters: {'n_estimators': 960, 'max_depth': 17, 'k_best': 3}. Best is trial 0 with value: 0.7889591719378953.\n",
      "[I 2024-09-23 17:08:34,378] Trial 9 finished with value: 0.7567567567567568 and parameters: {'n_estimators': 508, 'max_depth': 32, 'k_best': 8}. Best is trial 0 with value: 0.7889591719378953.\n",
      "[I 2024-09-23 17:08:36,114] Trial 10 finished with value: 0.7814836112708453 and parameters: {'n_estimators': 115, 'max_depth': 31, 'k_best': 12}. Best is trial 0 with value: 0.7889591719378953.\n",
      "[I 2024-09-23 17:08:37,568] Trial 11 finished with value: 0.78205865439908 and parameters: {'n_estimators': 100, 'max_depth': 32, 'k_best': 12}. Best is trial 0 with value: 0.7889591719378953.\n",
      "[I 2024-09-23 17:08:41,268] Trial 12 finished with value: 0.7619321449108684 and parameters: {'n_estimators': 302, 'max_depth': 27, 'k_best': 10}. Best is trial 0 with value: 0.7889591719378953.\n",
      "[I 2024-09-23 17:08:44,409] Trial 13 finished with value: 0.7722829212190915 and parameters: {'n_estimators': 300, 'max_depth': 13, 'k_best': 10}. Best is trial 0 with value: 0.7889591719378953.\n",
      "[I 2024-09-23 17:08:46,257] Trial 14 finished with value: 0.7791834387579069 and parameters: {'n_estimators': 272, 'max_depth': 5, 'k_best': 12}. Best is trial 0 with value: 0.7889591719378953.\n",
      "[I 2024-09-23 17:08:55,205] Trial 15 finished with value: 0.7625071880391029 and parameters: {'n_estimators': 695, 'max_depth': 28, 'k_best': 9}. Best is trial 0 with value: 0.7889591719378953.\n",
      "[I 2024-09-23 17:08:56,788] Trial 16 finished with value: 0.7515813686026452 and parameters: {'n_estimators': 182, 'max_depth': 23, 'k_best': 4}. Best is trial 0 with value: 0.7889591719378953.\n",
      "[I 2024-09-23 17:09:02,028] Trial 17 finished with value: 0.7826336975273146 and parameters: {'n_estimators': 393, 'max_depth': 18, 'k_best': 12}. Best is trial 0 with value: 0.7889591719378953.\n",
      "[I 2024-09-23 17:09:06,667] Trial 18 finished with value: 0.7705577918343876 and parameters: {'n_estimators': 403, 'max_depth': 15, 'k_best': 10}. Best is trial 0 with value: 0.7889591719378953.\n",
      "[I 2024-09-23 17:09:15,022] Trial 19 finished with value: 0.7642323174238068 and parameters: {'n_estimators': 659, 'max_depth': 20, 'k_best': 9}. Best is trial 0 with value: 0.7889591719378953.\n",
      "[I 2024-09-23 17:09:17,292] Trial 20 finished with value: 0.7751581368602645 and parameters: {'n_estimators': 400, 'max_depth': 9, 'k_best': 5}. Best is trial 0 with value: 0.7889591719378953.\n",
      "[I 2024-09-23 17:09:20,135] Trial 21 finished with value: 0.7786083956296722 and parameters: {'n_estimators': 186, 'max_depth': 24, 'k_best': 12}. Best is trial 0 with value: 0.7889591719378953.\n",
      "[I 2024-09-23 17:09:23,061] Trial 22 finished with value: 0.7751581368602645 and parameters: {'n_estimators': 228, 'max_depth': 19, 'k_best': 11}. Best is trial 0 with value: 0.7889591719378953.\n",
      "[I 2024-09-23 17:09:27,539] Trial 23 finished with value: 0.7855089131684876 and parameters: {'n_estimators': 373, 'max_depth': 15, 'k_best': 11}. Best is trial 0 with value: 0.7889591719378953.\n",
      "[I 2024-09-23 17:09:32,005] Trial 24 finished with value: 0.7832087406555491 and parameters: {'n_estimators': 395, 'max_depth': 15, 'k_best': 11}. Best is trial 0 with value: 0.7889591719378953.\n",
      "[I 2024-09-23 17:09:39,865] Trial 25 finished with value: 0.765382403680276 and parameters: {'n_estimators': 617, 'max_depth': 15, 'k_best': 9}. Best is trial 0 with value: 0.7889591719378953.\n",
      "[I 2024-09-23 17:09:43,933] Trial 26 finished with value: 0.7849338700402531 and parameters: {'n_estimators': 362, 'max_depth': 15, 'k_best': 11}. Best is trial 0 with value: 0.7889591719378953.\n",
      "[I 2024-09-23 17:09:44,919] Trial 27 finished with value: 0.7222541690626797 and parameters: {'n_estimators': 332, 'max_depth': 9, 'k_best': 1}. Best is trial 0 with value: 0.7889591719378953.\n",
      "[I 2024-09-23 17:09:48,321] Trial 28 finished with value: 0.7860839562967222 and parameters: {'n_estimators': 450, 'max_depth': 7, 'k_best': 11}. Best is trial 0 with value: 0.7889591719378953.\n",
      "[I 2024-09-23 17:09:51,232] Trial 29 finished with value: 0.7699827487061529 and parameters: {'n_estimators': 463, 'max_depth': 7, 'k_best': 8}. Best is trial 0 with value: 0.7889591719378953.\n",
      "[I 2024-09-23 17:09:54,522] Trial 30 finished with value: 0.7429557216791259 and parameters: {'n_estimators': 764, 'max_depth': 2, 'k_best': 10}. Best is trial 0 with value: 0.7889591719378953.\n",
      "[I 2024-09-23 17:10:00,962] Trial 31 finished with value: 0.7883841288096607 and parameters: {'n_estimators': 581, 'max_depth': 12, 'k_best': 11}. Best is trial 0 with value: 0.7889591719378953.\n",
      "[I 2024-09-23 17:10:07,271] Trial 32 finished with value: 0.7918343875790684 and parameters: {'n_estimators': 608, 'max_depth': 11, 'k_best': 11}. Best is trial 32 with value: 0.7918343875790684.\n",
      "[I 2024-09-23 17:10:13,358] Trial 33 finished with value: 0.7809085681426107 and parameters: {'n_estimators': 581, 'max_depth': 12, 'k_best': 10}. Best is trial 32 with value: 0.7918343875790684.\n",
      "[I 2024-09-23 17:10:18,086] Trial 34 finished with value: 0.7843588269120184 and parameters: {'n_estimators': 727, 'max_depth': 6, 'k_best': 11}. Best is trial 32 with value: 0.7918343875790684.\n",
      "[I 2024-09-23 17:10:24,549] Trial 35 finished with value: 0.7797584818861415 and parameters: {'n_estimators': 822, 'max_depth': 10, 'k_best': 8}. Best is trial 32 with value: 0.7918343875790684.\n",
      "[I 2024-09-23 17:10:27,707] Trial 36 finished with value: 0.7682576193214491 and parameters: {'n_estimators': 556, 'max_depth': 4, 'k_best': 9}. Best is trial 32 with value: 0.7918343875790684.\n",
      "[I 2024-09-23 17:10:35,443] Trial 37 finished with value: 0.7935595169637722 and parameters: {'n_estimators': 623, 'max_depth': 12, 'k_best': 12}. Best is trial 37 with value: 0.7935595169637722.\n",
      "[I 2024-09-23 17:10:43,048] Trial 38 finished with value: 0.7924094307073031 and parameters: {'n_estimators': 614, 'max_depth': 12, 'k_best': 12}. Best is trial 37 with value: 0.7935595169637722.\n",
      "[I 2024-09-23 17:10:50,747] Trial 39 finished with value: 0.7918343875790684 and parameters: {'n_estimators': 639, 'max_depth': 13, 'k_best': 12}. Best is trial 37 with value: 0.7935595169637722.\n",
      "[I 2024-09-23 17:10:58,387] Trial 40 finished with value: 0.7912593444508338 and parameters: {'n_estimators': 629, 'max_depth': 13, 'k_best': 12}. Best is trial 37 with value: 0.7935595169637722.\n",
      "[I 2024-09-23 17:11:05,995] Trial 41 finished with value: 0.7918343875790684 and parameters: {'n_estimators': 636, 'max_depth': 13, 'k_best': 12}. Best is trial 37 with value: 0.7935595169637722.\n",
      "[I 2024-09-23 17:11:13,720] Trial 42 finished with value: 0.7889591719378953 and parameters: {'n_estimators': 676, 'max_depth': 11, 'k_best': 12}. Best is trial 37 with value: 0.7935595169637722.\n",
      "[I 2024-09-23 17:11:24,082] Trial 43 finished with value: 0.7855089131684876 and parameters: {'n_estimators': 798, 'max_depth': 17, 'k_best': 12}. Best is trial 37 with value: 0.7935595169637722.\n",
      "[I 2024-09-23 17:11:30,125] Trial 44 finished with value: 0.78953421506613 and parameters: {'n_estimators': 508, 'max_depth': 13, 'k_best': 12}. Best is trial 37 with value: 0.7935595169637722.\n",
      "[I 2024-09-23 17:11:36,471] Trial 45 finished with value: 0.7901092581943646 and parameters: {'n_estimators': 719, 'max_depth': 9, 'k_best': 11}. Best is trial 37 with value: 0.7935595169637722.\n",
      "[I 2024-09-23 17:11:42,811] Trial 46 finished with value: 0.7837837837837838 and parameters: {'n_estimators': 628, 'max_depth': 11, 'k_best': 10}. Best is trial 37 with value: 0.7935595169637722.\n",
      "[I 2024-09-23 17:11:49,234] Trial 47 finished with value: 0.7889591719378953 and parameters: {'n_estimators': 522, 'max_depth': 13, 'k_best': 12}. Best is trial 37 with value: 0.7935595169637722.\n",
      "[I 2024-09-23 17:11:53,930] Trial 48 finished with value: 0.7901092581943646 and parameters: {'n_estimators': 592, 'max_depth': 8, 'k_best': 11}. Best is trial 37 with value: 0.7935595169637722.\n",
      "[I 2024-09-23 17:12:05,469] Trial 49 finished with value: 0.7860839562967222 and parameters: {'n_estimators': 869, 'max_depth': 17, 'k_best': 12}. Best is trial 37 with value: 0.7935595169637722.\n"
     ]
    }
   ],
   "source": [
    "# Running the optimization\n",
    "study = optuna.create_study(study_name='best_features_and_hyperparameters', direction='maximize') # optuna.create_study(...) es una función que se utiliza para crear un nuevo objeto de estudio. Un estudio en Optuna es un contenedor para todas las pruebas (trials) que se realizarán durante la optimización. Tiene dos parámetros: 1. study_name='best_features_and_hyperparameters': Este es el nombre que se le asigna al estudio. Puedes usar este nombre para identificar el estudio en la base de datos de Optuna, especialmente si estás guardando resultados o usando la interfaz de visualización. 2. direction='maximize': Este parámetro indica que el objetivo de la optimización es maximizar el valor que se devolverá en la función objetivo (en este caso, la precisión del modelo). Si en lugar de maximizar quisieras minimizar un valor (como la pérdida), usarías direction='minimize'.\n",
    "study.optimize(objective, n_trials=50) # study.optimize(...): es un método que ejecuta el proceso de optimización, llamando repetidamente a la función objetivo para encontrar la mejor combinación de hiperparámetros y características. Tiene dos parámetros: 1. objective: Este es el nombre de la función objetivo que se definió anteriormente. Optuna la llamará múltiples veces con diferentes configuraciones de hiperparámetros, que se generan automáticamente. 2. n_trials=50: Este parámetro indica el número total de pruebas (trials) que se realizarán. En cada prueba, Optuna selecciona un conjunto diferente de hiperparámetros y características que serán probados en el modelo. En este caso, se realizarán 50 pruebas diferentes."
   ]
  },
  {
   "cell_type": "code",
   "execution_count": 24,
   "metadata": {},
   "outputs": [
    {
     "name": "stdout",
     "output_type": "stream",
     "text": [
      "Best hyperparameters:  {'n_estimators': 623, 'max_depth': 12, 'k_best': 12}\n",
      "Selected features:  Index(['HomePlanet', 'CryoSleep', 'Cabin', 'Destination', 'Age', 'VIP',\n",
      "       'RoomService', 'FoodCourt', 'ShoppingMall', 'Spa', 'VRDeck', 'Name'],\n",
      "      dtype='object')\n"
     ]
    }
   ],
   "source": [
    "# Extracting the best hyperparameters and selected features\n",
    "print('Best hyperparameters: ', study.best_params) # study.best_params: Este atributo contiene un diccionario con los mejores hiperparámetros que Optuna encontró durante el proceso de optimización. Los hiperparámetros se refieren a los valores óptimos que maximizan el rendimiento del modelo según la función objetivo definida.\n",
    "best_trial = study.best_trial # study.best_trial: Este atributo proporciona acceso al trial (prueba) que produjo el mejor resultado durante la optimización. Incluye información sobre los hiperparámetros utilizados, el valor de la función objetivo (por ejemplo, la precisión del modelo), y otros metadatos relevantes.\n",
    "selected_features = SelectKBest(score_func=f_classif, \n",
    "                                k=best_trial.params['k_best']).fit(X_train, y_train) # SelectKBest: Esta clase se utiliza para seleccionar las k mejores características según una función de puntuación. En este caso, f_classif es la función de puntuación que evalúa la relación entre las características y la variable objetivo.\n",
    "\n",
    "                                # SelectKBest: Esta clase se utiliza para seleccionar las k mejores características según una función de puntuación. En este caso, f_classif es la función de puntuación que evalúa la relación entre las características y la variable objetivo.\n",
    "                                \n",
    "                                # k=best_trial.params['k_best']: Aquí, se utiliza el valor de k_best que se encontró durante la optimización como el número de características a seleccionar. Este valor se extrae del mejor trial.\n",
    "                                \n",
    "                                # .fit(X_train, y_train): Este método ajusta el selector de características a los datos de entrenamiento, calculando las puntuaciones de las características y seleccionando las mejores.\n",
    "\n",
    "print('Selected features: ', X.columns[selected_features.get_support()]) # selected_features.get_support(): Este método devuelve un array booleano que indica qué características han sido seleccionadas por el SelectKBest. Devuelve True para las características seleccionadas y False para las que no lo son.\n",
    "\n",
    "# X.columns[...]: Aquí se utilizan los índices booleanos para filtrar las columnas de X. Esto devuelve solo las columnas (características) que han sido seleccionadas."
   ]
  },
  {
   "cell_type": "code",
   "execution_count": 25,
   "metadata": {},
   "outputs": [],
   "source": [
    "# Load Submission Data\n",
    "submission_data = pd.read_csv('test.csv')\n",
    "\n",
    "# Drop Rows with Missing Values\n",
    "submission_data.fillna(0, inplace=True)\n",
    "\n",
    "# Applying the label encoders to the submission data\n",
    "for column, encoder in oe.items():\n",
    "    submission_data[column] = encoder.transform(submission_data[column].values.reshape(-1, 1))\n",
    "    \n",
    "# Generate Sample Submission\n",
    "best_clf = best_trial.user_attrs['classifier']\n",
    "y_pred = best_clf.predict(submission_data)\n",
    "submission_data['Transported'] = y_pred\n",
    "\n",
    "# Only keep required columns for submission\n",
    "submission_data = submission_data[['PassengerId', 'Transported']]\n",
    "\n",
    "# Save the DataFrame to Kaggle Directory and Upload to Submit\n",
    "submission_data.to_csv('submission.csv', index=False, header=True)"
   ]
  }
 ],
 "metadata": {
  "kernelspec": {
   "display_name": "env",
   "language": "python",
   "name": "python3"
  },
  "language_info": {
   "codemirror_mode": {
    "name": "ipython",
    "version": 3
   },
   "file_extension": ".py",
   "mimetype": "text/x-python",
   "name": "python",
   "nbconvert_exporter": "python",
   "pygments_lexer": "ipython3",
   "version": "3.12.1"
  }
 },
 "nbformat": 4,
 "nbformat_minor": 2
}
